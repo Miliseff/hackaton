{
  "nbformat": 4,
  "nbformat_minor": 0,
  "metadata": {
    "colab": {
      "provenance": [],
      "authorship_tag": "ABX9TyOhWW+3uP7tNty7DOF//8xW",
      "include_colab_link": true
    },
    "kernelspec": {
      "name": "python3",
      "display_name": "Python 3"
    },
    "language_info": {
      "name": "python"
    }
  },
  "cells": [
    {
      "cell_type": "markdown",
      "metadata": {
        "id": "view-in-github",
        "colab_type": "text"
      },
      "source": [
        "<a href=\"https://colab.research.google.com/github/Miliseff/hackaton/blob/main/hack2.ipynb\" target=\"_parent\"><img src=\"https://colab.research.google.com/assets/colab-badge.svg\" alt=\"Open In Colab\"/></a>"
      ]
    },
    {
      "cell_type": "code",
      "execution_count": 5,
      "metadata": {
        "id": "oFXonaaHgZQ9"
      },
      "outputs": [],
      "source": [
        "import pandas as pd\n",
        "import numpy as np\n",
        "import matplotlib\n",
        "import xlrd as xlrd  #leer archivos exel\n",
        "import gdown #descarga desde la pag"
      ]
    },
    {
      "cell_type": "code",
      "source": [
        "\n",
        "import gdown\n",
        "FILE_URL = 'https://api.worldbank.org/v2/es/indicator/SM.POP.NETM?downloadformat=excel'\n",
        "\n",
        "filename = 'migra.xls'\n",
        "gdown.download(FILE_URL, filename, quiet=False)\n",
        "print(filename)\n"
      ],
      "metadata": {
        "id": "pW7xG-SIs_UH",
        "colab": {
          "base_uri": "https://localhost:8080/"
        },
        "outputId": "ff061a10-9a5f-470c-a963-cd4a77c46c5d"
      },
      "execution_count": 7,
      "outputs": [
        {
          "output_type": "stream",
          "name": "stderr",
          "text": [
            "Downloading...\n",
            "From: https://api.worldbank.org/v2/es/indicator/SM.POP.NETM?downloadformat=excel\n",
            "To: /content/migra.xls\n",
            "100%|██████████| 166k/166k [00:00<00:00, 8.67MB/s]"
          ]
        },
        {
          "output_type": "stream",
          "name": "stdout",
          "text": [
            "migra.xls\n"
          ]
        },
        {
          "output_type": "stream",
          "name": "stderr",
          "text": [
            "\n"
          ]
        }
      ]
    },
    {
      "cell_type": "code",
      "source": [
        "df = pd.read_excel(filename, header=3) #con el header asigno la cabecera\n",
        "print(df)\n"
      ],
      "metadata": {
        "colab": {
          "base_uri": "https://localhost:8080/"
        },
        "id": "SUulTJo1vvhV",
        "outputId": "58baf276-2889-40c9-eefd-a7005a775110"
      },
      "execution_count": 9,
      "outputs": [
        {
          "output_type": "stream",
          "name": "stdout",
          "text": [
            "        Country Name Country Code  Indicator Name Indicator Code     1960  \\\n",
            "0              Aruba          ABW  Migración neta    SM.POP.NETM      0.0   \n",
            "1                NaN          AFE  Migración neta    SM.POP.NETM -90849.0   \n",
            "2         Afganistán          AFG  Migración neta    SM.POP.NETM   2606.0   \n",
            "3                NaN          AFW  Migración neta    SM.POP.NETM   -847.0   \n",
            "4             Angola          AGO  Migración neta    SM.POP.NETM -43749.0   \n",
            "..               ...          ...             ...            ...      ...   \n",
            "261           Kosovo          XKX  Migración neta    SM.POP.NETM  -6603.0   \n",
            "262  Yemen, Rep. del          YEM  Migración neta    SM.POP.NETM -17145.0   \n",
            "263        Sudáfrica          ZAF  Migración neta    SM.POP.NETM  18909.0   \n",
            "264           Zambia          ZMB  Migración neta    SM.POP.NETM  -3894.0   \n",
            "265         Zimbabwe          ZWE  Migración neta    SM.POP.NETM  -8256.0   \n",
            "\n",
            "        1961     1962     1963     1964     1965  ...      2014      2015  \\\n",
            "0     -569.0   -609.0   -646.0   -684.0   -726.0  ...      88.0     177.0   \n",
            "1    -1348.0 -24259.0 -16266.0  37452.0  11041.0  ... -199608.0  394925.0   \n",
            "2     6109.0   7016.0   6681.0   7079.0  10695.0  ...  255611.0 -281739.0   \n",
            "3   -41547.0 -36399.0 -37435.0 -45534.0 -15985.0  ... -280418.0 -360393.0   \n",
            "4   -49186.0 -54566.0 -59777.0 -71948.0 -87288.0  ...   84532.0   74170.0   \n",
            "..       ...      ...      ...      ...      ...  ...       ...       ...   \n",
            "261  -6713.0  -7466.0  -7874.0  -8266.0  -8573.0  ...  -56637.0  -14819.0   \n",
            "262 -17494.0 -17846.0 -18217.0 -18583.0 -18968.0  ...  -30048.0  -38355.0   \n",
            "263  56098.0  68068.0  70976.0  74419.0  80687.0  ...  290874.0  644996.0   \n",
            "264  -4357.0  -4756.0  -5029.0  -5214.0  -5370.0  ...   16580.0   16283.0   \n",
            "265  -8582.0  -8931.0  -9369.0 -10064.0 -10889.0  ...  -59918.0  -59918.0   \n",
            "\n",
            "         2016      2017      2018      2019      2020      2021      2022  \\\n",
            "0       170.0     218.0     367.0     412.0       0.0     501.0     164.0   \n",
            "1   -864708.0 -343075.0 -366105.0 -187410.0  -48955.0 -179444.0 -274282.0   \n",
            "2    -90238.0  -47090.0  -47205.0   -8082.0  166821.0 -183672.0  -65846.0   \n",
            "3   -167286.0 -200823.0 -255888.0 -328552.0  -99761.0 -264802.0 -186109.0   \n",
            "4     91623.0   77733.0   61632.0   58986.0    7557.0   29089.0   -1000.0   \n",
            "..        ...       ...       ...       ...       ...       ...       ...   \n",
            "261  -31383.0  -33495.0  -34137.0  -33469.0  -15050.0  -15050.0   -5000.0   \n",
            "262  -39688.0  -39672.0  -39699.0  -39769.0  -86100.0 -101468.0  -29998.0   \n",
            "263 -866101.0  -10681.0   27265.0   22728.0   30852.0   10934.0   58496.0   \n",
            "264   17285.0   20268.0   18019.0   18019.0    9015.0    9015.0   -5000.0   \n",
            "265  -59918.0  -59918.0  -59918.0  -59918.0  -29955.0  -25005.0   -9999.0   \n",
            "\n",
            "         2023  \n",
            "0       157.0  \n",
            "1   -271749.0  \n",
            "2    -65846.0  \n",
            "3   -183333.0  \n",
            "4     -1000.0  \n",
            "..        ...  \n",
            "261   -5000.0  \n",
            "262  -29914.0  \n",
            "263   58496.0  \n",
            "264   -5000.0  \n",
            "265   -9999.0  \n",
            "\n",
            "[266 rows x 68 columns]\n"
          ]
        }
      ]
    },
    {
      "cell_type": "code",
      "source": [
        "#df.iloc[0] #ACCEDEMOS AL INDICE 0\n",
        "#df.iloc[:,0] #MUESTA LA COLUMNA\n",
        "#df.iloc[:5,0] #TODO HASTA LA FILA 5 Y COLUMNA 0"
      ],
      "metadata": {
        "id": "3ihHugv9wnO8"
      },
      "execution_count": null,
      "outputs": []
    },
    {
      "cell_type": "code",
      "source": [
        "print(df.isnull().sum()) #veo los null\n"
      ],
      "metadata": {
        "colab": {
          "base_uri": "https://localhost:8080/"
        },
        "id": "Jc0YV51MysQA",
        "outputId": "d5047661-6ae7-4a17-fb94-8f5584dc29f6"
      },
      "execution_count": 10,
      "outputs": [
        {
          "output_type": "stream",
          "name": "stdout",
          "text": [
            "Country Name      2\n",
            "Country Code      0\n",
            "Indicator Name    0\n",
            "Indicator Code    0\n",
            "1960              1\n",
            "                 ..\n",
            "2019              1\n",
            "2020              1\n",
            "2021              1\n",
            "2022              1\n",
            "2023              1\n",
            "Length: 68, dtype: int64\n"
          ]
        }
      ]
    },
    {
      "cell_type": "code",
      "source": [
        "column_name = 'Country Name'  # elimino los nulos de la columna\n",
        "df = df.dropna(subset=[column_name])\n",
        "print(df)"
      ],
      "metadata": {
        "colab": {
          "base_uri": "https://localhost:8080/"
        },
        "id": "u4G2VjfAzTKu",
        "outputId": "22213de1-1e38-428e-b3f0-b04279e1c450"
      },
      "execution_count": 11,
      "outputs": [
        {
          "output_type": "stream",
          "name": "stdout",
          "text": [
            "        Country Name Country Code  Indicator Name Indicator Code     1960  \\\n",
            "0              Aruba          ABW  Migración neta    SM.POP.NETM      0.0   \n",
            "2         Afganistán          AFG  Migración neta    SM.POP.NETM   2606.0   \n",
            "4             Angola          AGO  Migración neta    SM.POP.NETM -43749.0   \n",
            "5            Albania          ALB  Migración neta    SM.POP.NETM  15540.0   \n",
            "6            Andorra          AND  Migración neta    SM.POP.NETM    642.0   \n",
            "..               ...          ...             ...            ...      ...   \n",
            "261           Kosovo          XKX  Migración neta    SM.POP.NETM  -6603.0   \n",
            "262  Yemen, Rep. del          YEM  Migración neta    SM.POP.NETM -17145.0   \n",
            "263        Sudáfrica          ZAF  Migración neta    SM.POP.NETM  18909.0   \n",
            "264           Zambia          ZMB  Migración neta    SM.POP.NETM  -3894.0   \n",
            "265         Zimbabwe          ZWE  Migración neta    SM.POP.NETM  -8256.0   \n",
            "\n",
            "        1961     1962     1963     1964     1965  ...      2014      2015  \\\n",
            "0     -569.0   -609.0   -646.0   -684.0   -726.0  ...      88.0     177.0   \n",
            "2     6109.0   7016.0   6681.0   7079.0  10695.0  ...  255611.0 -281739.0   \n",
            "4   -49186.0 -54566.0 -59777.0 -71948.0 -87288.0  ...   84532.0   74170.0   \n",
            "5    15424.0  15288.0  15007.0  14612.0  14209.0  ...  -14265.0  -12240.0   \n",
            "6      653.0    664.0    670.0    672.0    669.0  ...     -84.0    -232.0   \n",
            "..       ...      ...      ...      ...      ...  ...       ...       ...   \n",
            "261  -6713.0  -7466.0  -7874.0  -8266.0  -8573.0  ...  -56637.0  -14819.0   \n",
            "262 -17494.0 -17846.0 -18217.0 -18583.0 -18968.0  ...  -30048.0  -38355.0   \n",
            "263  56098.0  68068.0  70976.0  74419.0  80687.0  ...  290874.0  644996.0   \n",
            "264  -4357.0  -4756.0  -5029.0  -5214.0  -5370.0  ...   16580.0   16283.0   \n",
            "265  -8582.0  -8931.0  -9369.0 -10064.0 -10889.0  ...  -59918.0  -59918.0   \n",
            "\n",
            "         2016     2017     2018     2019      2020      2021     2022     2023  \n",
            "0       170.0    218.0    367.0    412.0       0.0     501.0    164.0    157.0  \n",
            "2    -90238.0 -47090.0 -47205.0  -8082.0  166821.0 -183672.0 -65846.0 -65846.0  \n",
            "4     91623.0  77733.0  61632.0  58986.0    7557.0   29089.0  -1000.0  -1000.0  \n",
            "5    -10887.0  -9768.0  -9106.0  -8889.0   -9117.0  -10612.0  -8000.0  -8000.0  \n",
            "6      1303.0    887.0   1184.0   1238.0    1474.0    1377.0    200.0    200.0  \n",
            "..        ...      ...      ...      ...       ...       ...      ...      ...  \n",
            "261  -31383.0 -33495.0 -34137.0 -33469.0  -15050.0  -15050.0  -5000.0  -5000.0  \n",
            "262  -39688.0 -39672.0 -39699.0 -39769.0  -86100.0 -101468.0 -29998.0 -29914.0  \n",
            "263 -866101.0 -10681.0  27265.0  22728.0   30852.0   10934.0  58496.0  58496.0  \n",
            "264   17285.0  20268.0  18019.0  18019.0    9015.0    9015.0  -5000.0  -5000.0  \n",
            "265  -59918.0 -59918.0 -59918.0 -59918.0  -29955.0  -25005.0  -9999.0  -9999.0  \n",
            "\n",
            "[264 rows x 68 columns]\n"
          ]
        }
      ]
    },
    {
      "cell_type": "code",
      "source": [
        "df.to_excel('archivo_actualizado_1.xlsx', index=False)# Guardar el archivo Excel actualizado"
      ],
      "metadata": {
        "id": "3YP-8Y952iqA"
      },
      "execution_count": 12,
      "outputs": []
    },
    {
      "cell_type": "code",
      "source": [
        "df = pd.read_excel('archivo_actualizado_1.xlsx') #obviamente ya no falta poner el header porq ya lo definimos\n",
        "print(df.head()) #mostrar solo primero 5 resultados"
      ],
      "metadata": {
        "colab": {
          "base_uri": "https://localhost:8080/"
        },
        "id": "Ou1NQAtZ7Z-Q",
        "outputId": "f8b248e0-6008-4ec7-f5af-b76413bc8491"
      },
      "execution_count": 13,
      "outputs": [
        {
          "output_type": "stream",
          "name": "stdout",
          "text": [
            "  Country Name Country Code  Indicator Name Indicator Code     1960     1961  \\\n",
            "0        Aruba          ABW  Migración neta    SM.POP.NETM      0.0   -569.0   \n",
            "1   Afganistán          AFG  Migración neta    SM.POP.NETM   2606.0   6109.0   \n",
            "2       Angola          AGO  Migración neta    SM.POP.NETM -43749.0 -49186.0   \n",
            "3      Albania          ALB  Migración neta    SM.POP.NETM  15540.0  15424.0   \n",
            "4      Andorra          AND  Migración neta    SM.POP.NETM    642.0    653.0   \n",
            "\n",
            "      1962     1963     1964     1965  ...      2014      2015     2016  \\\n",
            "0   -609.0   -646.0   -684.0   -726.0  ...      88.0     177.0    170.0   \n",
            "1   7016.0   6681.0   7079.0  10695.0  ...  255611.0 -281739.0 -90238.0   \n",
            "2 -54566.0 -59777.0 -71948.0 -87288.0  ...   84532.0   74170.0  91623.0   \n",
            "3  15288.0  15007.0  14612.0  14209.0  ...  -14265.0  -12240.0 -10887.0   \n",
            "4    664.0    670.0    672.0    669.0  ...     -84.0    -232.0   1303.0   \n",
            "\n",
            "      2017     2018     2019      2020      2021     2022     2023  \n",
            "0    218.0    367.0    412.0       0.0     501.0    164.0    157.0  \n",
            "1 -47090.0 -47205.0  -8082.0  166821.0 -183672.0 -65846.0 -65846.0  \n",
            "2  77733.0  61632.0  58986.0    7557.0   29089.0  -1000.0  -1000.0  \n",
            "3  -9768.0  -9106.0  -8889.0   -9117.0  -10612.0  -8000.0  -8000.0  \n",
            "4    887.0   1184.0   1238.0    1474.0    1377.0    200.0    200.0  \n",
            "\n",
            "[5 rows x 68 columns]\n"
          ]
        }
      ]
    },
    {
      "cell_type": "code",
      "source": [
        "# rango de columnas a eliminar por índice\n",
        "start_index = 2\n",
        "end_index = 44\n",
        "columnas_eliminar = df.columns[start_index:end_index]\n",
        "print(columnas_eliminar)\n",
        "df = df.drop(columns=columnas_eliminar)"
      ],
      "metadata": {
        "colab": {
          "base_uri": "https://localhost:8080/"
        },
        "id": "ZTavICP62tdp",
        "outputId": "2a2b8213-2c30-49f8-9752-1884f966c213"
      },
      "execution_count": 14,
      "outputs": [
        {
          "output_type": "stream",
          "name": "stdout",
          "text": [
            "Index(['Indicator Name', 'Indicator Code', '1960', '1961', '1962', '1963',\n",
            "       '1964', '1965', '1966', '1967', '1968', '1969', '1970', '1971', '1972',\n",
            "       '1973', '1974', '1975', '1976', '1977', '1978', '1979', '1980', '1981',\n",
            "       '1982', '1983', '1984', '1985', '1986', '1987', '1988', '1989', '1990',\n",
            "       '1991', '1992', '1993', '1994', '1995', '1996', '1997', '1998', '1999'],\n",
            "      dtype='object')\n"
          ]
        }
      ]
    },
    {
      "cell_type": "code",
      "source": [
        "print(df.head()) #mostrar solo primero 5 resultados"
      ],
      "metadata": {
        "colab": {
          "base_uri": "https://localhost:8080/"
        },
        "id": "1HUqicuA7QtJ",
        "outputId": "ccffc741-60a9-4a61-c59e-2feb9ceffcdf"
      },
      "execution_count": 15,
      "outputs": [
        {
          "output_type": "stream",
          "name": "stdout",
          "text": [
            "  Country Name Country Code       2000      2001       2002      2003  \\\n",
            "0        Aruba          ABW     1235.0     560.0      350.0     324.0   \n",
            "1   Afganistán          AFG -1007135.0 -192286.0  1327074.0  388632.0   \n",
            "2       Angola          AGO    53527.0   56959.0    60505.0   59438.0   \n",
            "3      Albania          ALB   -63610.0  -62059.0   -59876.0  -57308.0   \n",
            "4      Andorra          AND      146.0    2690.0     2690.0    2722.0   \n",
            "\n",
            "       2004      2005     2006      2007  ...      2014      2015     2016  \\\n",
            "0     315.0     579.0    569.0     621.0  ...      88.0     177.0    170.0   \n",
            "1 -248616.0  252185.0  62684.0 -942887.0  ...  255611.0 -281739.0 -90238.0   \n",
            "2   66585.0   64009.0  70170.0   73940.0  ...   84532.0   74170.0  91623.0   \n",
            "3  -54383.0  -50855.0 -47174.0  -43019.0  ...  -14265.0  -12240.0 -10887.0   \n",
            "4    2744.0    2467.0  -2420.0   -2446.0  ...     -84.0    -232.0   1303.0   \n",
            "\n",
            "      2017     2018     2019      2020      2021     2022     2023  \n",
            "0    218.0    367.0    412.0       0.0     501.0    164.0    157.0  \n",
            "1 -47090.0 -47205.0  -8082.0  166821.0 -183672.0 -65846.0 -65846.0  \n",
            "2  77733.0  61632.0  58986.0    7557.0   29089.0  -1000.0  -1000.0  \n",
            "3  -9768.0  -9106.0  -8889.0   -9117.0  -10612.0  -8000.0  -8000.0  \n",
            "4    887.0   1184.0   1238.0    1474.0    1377.0    200.0    200.0  \n",
            "\n",
            "[5 rows x 26 columns]\n"
          ]
        }
      ]
    },
    {
      "cell_type": "code",
      "source": [
        "df.to_excel('archivo_actualizado_2.xlsx', index=False)# Guardo"
      ],
      "metadata": {
        "id": "lfoH7m3z0Szb"
      },
      "execution_count": 16,
      "outputs": []
    },
    {
      "cell_type": "code",
      "source": [
        "df = pd.read_excel('archivo_actualizado_2.xlsx') #cargo\n",
        "print(df.head()) #mostrar solo primero 5 resultados"
      ],
      "metadata": {
        "colab": {
          "base_uri": "https://localhost:8080/"
        },
        "id": "-B-SAiRe7eZL",
        "outputId": "dd1c2e63-9f45-4e0b-aa7f-3ff01cd9d2bb"
      },
      "execution_count": 17,
      "outputs": [
        {
          "output_type": "stream",
          "name": "stdout",
          "text": [
            "  Country Name Country Code       2000      2001       2002      2003  \\\n",
            "0        Aruba          ABW     1235.0     560.0      350.0     324.0   \n",
            "1   Afganistán          AFG -1007135.0 -192286.0  1327074.0  388632.0   \n",
            "2       Angola          AGO    53527.0   56959.0    60505.0   59438.0   \n",
            "3      Albania          ALB   -63610.0  -62059.0   -59876.0  -57308.0   \n",
            "4      Andorra          AND      146.0    2690.0     2690.0    2722.0   \n",
            "\n",
            "       2004      2005     2006      2007  ...      2014      2015     2016  \\\n",
            "0     315.0     579.0    569.0     621.0  ...      88.0     177.0    170.0   \n",
            "1 -248616.0  252185.0  62684.0 -942887.0  ...  255611.0 -281739.0 -90238.0   \n",
            "2   66585.0   64009.0  70170.0   73940.0  ...   84532.0   74170.0  91623.0   \n",
            "3  -54383.0  -50855.0 -47174.0  -43019.0  ...  -14265.0  -12240.0 -10887.0   \n",
            "4    2744.0    2467.0  -2420.0   -2446.0  ...     -84.0    -232.0   1303.0   \n",
            "\n",
            "      2017     2018     2019      2020      2021     2022     2023  \n",
            "0    218.0    367.0    412.0       0.0     501.0    164.0    157.0  \n",
            "1 -47090.0 -47205.0  -8082.0  166821.0 -183672.0 -65846.0 -65846.0  \n",
            "2  77733.0  61632.0  58986.0    7557.0   29089.0  -1000.0  -1000.0  \n",
            "3  -9768.0  -9106.0  -8889.0   -9117.0  -10612.0  -8000.0  -8000.0  \n",
            "4    887.0   1184.0   1238.0    1474.0    1377.0    200.0    200.0  \n",
            "\n",
            "[5 rows x 26 columns]\n"
          ]
        }
      ]
    },
    {
      "cell_type": "code",
      "source": [
        "#ARMADO DE SEGUNDO DATAFRAME- HOJA 2\n",
        "FILE_URL = 'https://api.worldbank.org/v2/es/indicator/SM.POP.NETM?downloadformat=excel'\n",
        "filename = 'migra.xls'\n",
        "gdown.download(FILE_URL, filename, quiet=False)\n",
        "df_ingresos = pd.read_excel(filename, sheet_name=1)\n",
        "\n",
        "print(df_ingresos.head())"
      ],
      "metadata": {
        "colab": {
          "base_uri": "https://localhost:8080/"
        },
        "id": "df3M-Kds8Mum",
        "outputId": "e92bc798-813a-44af-d4f0-5370297c6dd8"
      },
      "execution_count": 18,
      "outputs": [
        {
          "output_type": "stream",
          "name": "stderr",
          "text": [
            "Downloading...\n",
            "From: https://api.worldbank.org/v2/es/indicator/SM.POP.NETM?downloadformat=excel\n",
            "To: /content/migra.xls\n",
            "100%|██████████| 166k/166k [00:00<00:00, 2.34MB/s]"
          ]
        },
        {
          "output_type": "stream",
          "name": "stdout",
          "text": [
            "  Country Name Country Code  \\\n",
            "0        Aruba          ABW   \n",
            "1          NaN          AFE   \n",
            "2   Afganistán          AFG   \n",
            "3          NaN          AFW   \n",
            "4       Angola          AGO   \n",
            "\n",
            "                                              Region  \\\n",
            "0                                                NaN   \n",
            "1                                                NaN   \n",
            "2                                    Asia meridional   \n",
            "3                                                NaN   \n",
            "4  África al sur del Sahara (excluido altos ingre...   \n",
            "\n",
            "                     Income_Group  \n",
            "0                    Ingreso alto  \n",
            "1                       Agregados  \n",
            "2          Países de ingreso bajo  \n",
            "3                       Agregados  \n",
            "4  Países de ingreso mediano bajo  \n"
          ]
        },
        {
          "output_type": "stream",
          "name": "stderr",
          "text": [
            "\n"
          ]
        }
      ]
    },
    {
      "cell_type": "code",
      "source": [
        "print(df_ingresos.isnull().sum()) #veo los null"
      ],
      "metadata": {
        "colab": {
          "base_uri": "https://localhost:8080/"
        },
        "id": "VAo4hZAaCOZg",
        "outputId": "b1e1ffde-8ff0-417b-f0b7-831b6d72fbb9"
      },
      "execution_count": 19,
      "outputs": [
        {
          "output_type": "stream",
          "name": "stdout",
          "text": [
            "Country Name      2\n",
            "Country Code      0\n",
            "Region          132\n",
            "Income_Group      0\n",
            "dtype: int64\n"
          ]
        }
      ]
    },
    {
      "cell_type": "code",
      "source": [
        "column = 'Country Name'  # elimino los nulos de la columna\n",
        "df_ingresos= df_ingresos.dropna(subset=[column])\n",
        "print(df_ingresos.head())"
      ],
      "metadata": {
        "colab": {
          "base_uri": "https://localhost:8080/"
        },
        "id": "BXzJDvDoCZNC",
        "outputId": "adb8df61-57d1-4d4a-e5a9-14f6454e426c"
      },
      "execution_count": 20,
      "outputs": [
        {
          "output_type": "stream",
          "name": "stdout",
          "text": [
            "  Country Name Country Code  \\\n",
            "0        Aruba          ABW   \n",
            "2   Afganistán          AFG   \n",
            "4       Angola          AGO   \n",
            "5      Albania          ALB   \n",
            "6      Andorra          AND   \n",
            "\n",
            "                                              Region  \\\n",
            "0                                                NaN   \n",
            "2                                    Asia meridional   \n",
            "4  África al sur del Sahara (excluido altos ingre...   \n",
            "5    Europa y Asia central (excluido altos ingresos)   \n",
            "6                                                NaN   \n",
            "\n",
            "                     Income_Group  \n",
            "0                    Ingreso alto  \n",
            "2          Países de ingreso bajo  \n",
            "4  Países de ingreso mediano bajo  \n",
            "5            Ingreso mediano alto  \n",
            "6                    Ingreso alto  \n"
          ]
        }
      ]
    },
    {
      "cell_type": "code",
      "source": [
        "# eliminar columas irrelevantes\n",
        "columna_a_eliminar = 'Region'\n",
        "df_ingresos = df_ingresos.drop(columns=[columna_a_eliminar])\n",
        "print(df_ingresos)"
      ],
      "metadata": {
        "colab": {
          "base_uri": "https://localhost:8080/"
        },
        "id": "vGsyyuaCCxsp",
        "outputId": "fd7103c4-2e98-49e0-c782-1d66ec7448f5"
      },
      "execution_count": 21,
      "outputs": [
        {
          "output_type": "stream",
          "name": "stdout",
          "text": [
            "        Country Name Country Code                    Income_Group\n",
            "0              Aruba          ABW                    Ingreso alto\n",
            "2         Afganistán          AFG          Países de ingreso bajo\n",
            "4             Angola          AGO  Países de ingreso mediano bajo\n",
            "5            Albania          ALB            Ingreso mediano alto\n",
            "6            Andorra          AND                    Ingreso alto\n",
            "..               ...          ...                             ...\n",
            "261           Kosovo          XKX            Ingreso mediano alto\n",
            "262  Yemen, Rep. del          YEM          Países de ingreso bajo\n",
            "263        Sudáfrica          ZAF            Ingreso mediano alto\n",
            "264           Zambia          ZMB  Países de ingreso mediano bajo\n",
            "265         Zimbabwe          ZWE  Países de ingreso mediano bajo\n",
            "\n",
            "[264 rows x 3 columns]\n"
          ]
        }
      ]
    },
    {
      "cell_type": "code",
      "source": [
        "df_ingresos.to_excel('archivo_ingresos.xlsx', index=False)# Guardo"
      ],
      "metadata": {
        "id": "oFaJsWwHElvf"
      },
      "execution_count": 22,
      "outputs": []
    },
    {
      "cell_type": "code",
      "source": [
        "df_ingresos = pd.read_excel('archivo_ingresos.xlsx') #cargo\n",
        "print(df_ingresos.head()) #mostrar solo primero 5 resultados"
      ],
      "metadata": {
        "id": "U4jTIcU_EzTG",
        "outputId": "02ef62df-72cc-4bfe-e36e-f3bb1dff7112",
        "colab": {
          "base_uri": "https://localhost:8080/"
        }
      },
      "execution_count": 45,
      "outputs": [
        {
          "output_type": "stream",
          "name": "stdout",
          "text": [
            "  Country Name Country Code                    Income_Group\n",
            "0        Aruba          ABW                    Ingreso alto\n",
            "1   Afganistán          AFG          Países de ingreso bajo\n",
            "2       Angola          AGO  Países de ingreso mediano bajo\n",
            "3      Albania          ALB            Ingreso mediano alto\n",
            "4      Andorra          AND                    Ingreso alto\n"
          ]
        }
      ]
    },
    {
      "cell_type": "code",
      "source": [
        "# Necesito contar los valores de cada columna para saber cual borrar\n",
        "conteo_valores = df_ingresos['Income_Group'].value_counts()\n",
        "\n",
        "# Mostrar el conteo de valores\n",
        "print(\"\\nConteo de registros por cada string en la columna 'Income_Group':\")\n",
        "print(conteo_valores)"
      ],
      "metadata": {
        "colab": {
          "base_uri": "https://localhost:8080/"
        },
        "id": "B3GI91pVEFpa",
        "outputId": "6bde8a71-20e9-4410-d2ac-4b043b151b00"
      },
      "execution_count": 47,
      "outputs": [
        {
          "output_type": "stream",
          "name": "stdout",
          "text": [
            "\n",
            "Conteo de registros por cada string en la columna 'Income_Group':\n",
            "Income_Group\n",
            "Ingreso alto                      82\n",
            "Países de ingreso mediano bajo    54\n",
            "Ingreso mediano alto              54\n",
            "Agregados                         47\n",
            "Países de ingreso bajo            26\n",
            "No clasificado                     1\n",
            "Name: count, dtype: int64\n"
          ]
        }
      ]
    },
    {
      "cell_type": "code",
      "source": [
        "# datos antes de la limpieza\n",
        "print(\"Datos antes de la limpieza\")\n",
        "print(df_ingresos)\n",
        "\n",
        "# Elimin las filas con 'No clasificado' en la columna 'Income_Group'\n",
        "df_ingresos_limpio = df_ingresos[df_ingresos['Income_Group'] != 'No clasificado']\n",
        "\n",
        "# datos despues de la limpieza\n",
        "print(\"\\nDatos despues de la limpieza\") #\\n agrega espacios\n",
        "print(df_ingresos_limpio)"
      ],
      "metadata": {
        "colab": {
          "base_uri": "https://localhost:8080/"
        },
        "id": "rNPsY0bQB9Qk",
        "outputId": "de7260d7-e133-4258-868a-6ae41de844c7"
      },
      "execution_count": 50,
      "outputs": [
        {
          "output_type": "stream",
          "name": "stdout",
          "text": [
            "datos antes de la limpieza\n",
            "        Country Name Country Code                    Income_Group\n",
            "0              Aruba          ABW                    Ingreso alto\n",
            "1         Afganistán          AFG          Países de ingreso bajo\n",
            "2             Angola          AGO  Países de ingreso mediano bajo\n",
            "3            Albania          ALB            Ingreso mediano alto\n",
            "4            Andorra          AND                    Ingreso alto\n",
            "..               ...          ...                             ...\n",
            "259           Kosovo          XKX            Ingreso mediano alto\n",
            "260  Yemen, Rep. del          YEM          Países de ingreso bajo\n",
            "261        Sudáfrica          ZAF            Ingreso mediano alto\n",
            "262           Zambia          ZMB  Países de ingreso mediano bajo\n",
            "263         Zimbabwe          ZWE  Países de ingreso mediano bajo\n",
            "\n",
            "[264 rows x 3 columns]\n",
            "\n",
            "\n",
            "Datos después de la limpieza:\n",
            "        Country Name Country Code                    Income_Group\n",
            "0              Aruba          ABW                    Ingreso alto\n",
            "1         Afganistán          AFG          Países de ingreso bajo\n",
            "2             Angola          AGO  Países de ingreso mediano bajo\n",
            "3            Albania          ALB            Ingreso mediano alto\n",
            "4            Andorra          AND                    Ingreso alto\n",
            "..               ...          ...                             ...\n",
            "259           Kosovo          XKX            Ingreso mediano alto\n",
            "260  Yemen, Rep. del          YEM          Países de ingreso bajo\n",
            "261        Sudáfrica          ZAF            Ingreso mediano alto\n",
            "262           Zambia          ZMB  Países de ingreso mediano bajo\n",
            "263         Zimbabwe          ZWE  Países de ingreso mediano bajo\n",
            "\n",
            "[263 rows x 3 columns]\n"
          ]
        }
      ]
    },
    {
      "cell_type": "code",
      "source": [
        "df_ingresos_limpio.to_excel('archivo_ingresos_limpio.xlsx', index=False)# Guardo"
      ],
      "metadata": {
        "id": "XLyAKO70C2QH"
      },
      "execution_count": 52,
      "outputs": []
    },
    {
      "cell_type": "code",
      "source": [
        "df_ingresos_limpio = pd.read_excel('archivo_ingresos_limpio.xlsx') #cargo\n",
        "print(df_ingresos_limpio.head()) #mostrar solo primero 5 resultados"
      ],
      "metadata": {
        "colab": {
          "base_uri": "https://localhost:8080/"
        },
        "id": "AN6BLvveFV_S",
        "outputId": "bfc2aae1-1ecc-4e22-f573-1d59f804566f"
      },
      "execution_count": 53,
      "outputs": [
        {
          "output_type": "stream",
          "name": "stdout",
          "text": [
            "  Country Name Country Code                    Income_Group\n",
            "0        Aruba          ABW                    Ingreso alto\n",
            "1   Afganistán          AFG          Países de ingreso bajo\n",
            "2       Angola          AGO  Países de ingreso mediano bajo\n",
            "3      Albania          ALB            Ingreso mediano alto\n",
            "4      Andorra          AND                    Ingreso alto\n"
          ]
        }
      ]
    },
    {
      "cell_type": "code",
      "source": [
        "# Transformo los datos de texto a number\n",
        "mapeo = {\n",
        "    'Ingreso alto': 5,\n",
        "    'Ingreso mediano alto': 4,\n",
        "    'Agregados': 3,\n",
        "    'Países de ingreso mediano bajo': 2,\n",
        "    'Países de ingreso bajo': 1\n",
        "}\n",
        "\n",
        "df_ingresos_limpio['Income_Group'] = df_ingresos_limpio['Income_Group'].map(mapeo)\n",
        "\n",
        "print(\"Datos desp de la conversion:\")\n",
        "print(df_ingresos_limpio)"
      ],
      "metadata": {
        "colab": {
          "base_uri": "https://localhost:8080/"
        },
        "id": "nV2vj5fR-mRL",
        "outputId": "b9018577-bd9e-47cb-8a3a-c41680104aed"
      },
      "execution_count": 54,
      "outputs": [
        {
          "output_type": "stream",
          "name": "stdout",
          "text": [
            "Datos desp de la conversion:\n",
            "        Country Name Country Code  Income_Group\n",
            "0              Aruba          ABW             5\n",
            "1         Afganistán          AFG             1\n",
            "2             Angola          AGO             2\n",
            "3            Albania          ALB             4\n",
            "4            Andorra          AND             5\n",
            "..               ...          ...           ...\n",
            "258           Kosovo          XKX             4\n",
            "259  Yemen, Rep. del          YEM             1\n",
            "260        Sudáfrica          ZAF             4\n",
            "261           Zambia          ZMB             2\n",
            "262         Zimbabwe          ZWE             2\n",
            "\n",
            "[263 rows x 3 columns]\n"
          ]
        }
      ]
    },
    {
      "cell_type": "code",
      "source": [
        "df_ingresos_limpio.to_excel('archivo_ingresos_listo.xlsx', index=False)# Guardo"
      ],
      "metadata": {
        "id": "B09qBBo5Au70"
      },
      "execution_count": 56,
      "outputs": []
    },
    {
      "cell_type": "code",
      "source": [
        "df_ingresos_limpio = pd.read_excel('archivo_ingresos_listo.xlsx') #cargo\n",
        "print(df_ingresos_limpio.head()) #mostrar solo primero 5 resultados"
      ],
      "metadata": {
        "colab": {
          "base_uri": "https://localhost:8080/"
        },
        "id": "7lI7eGOPF0Tm",
        "outputId": "3cd6857b-2e88-4e7b-93d3-8506690ccf63"
      },
      "execution_count": 57,
      "outputs": [
        {
          "output_type": "stream",
          "name": "stdout",
          "text": [
            "  Country Name Country Code  Income_Group\n",
            "0        Aruba          ABW             5\n",
            "1   Afganistán          AFG             1\n",
            "2       Angola          AGO             2\n",
            "3      Albania          ALB             4\n",
            "4      Andorra          AND             5\n"
          ]
        }
      ]
    }
  ]
}